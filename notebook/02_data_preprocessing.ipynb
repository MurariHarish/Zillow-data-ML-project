{
 "cells": [
  {
   "cell_type": "code",
   "execution_count": 1,
   "metadata": {},
   "outputs": [],
   "source": [
    "import os, sys\n",
    "from ZillowHouseData.logger import logger\n",
    "from ZillowHouseData.exception import CustomException\n",
    "import pandas as pd\n",
    "import pickle"
   ]
  },
  {
   "cell_type": "code",
   "execution_count": 13,
   "metadata": {},
   "outputs": [],
   "source": [
    "class DataPreprocessing:\n",
    "    def __init__(self, file_name='ZILLOW_DATA_962c837a6ccefddddf190101e0bafdaf.csv', start_date='2012-01-01'):\n",
    "        #self.file_name = file_name\n",
    "        #self.file_name = os.path.join('../','artifacts', 'data_ingestion',file_name)\n",
    "        self.file_name = os.path.join('..','artifacts', 'data_ingestion',file_name)\n",
    "        self.start_date = start_date\n",
    "\n",
    "    def data_preprocessing(self):\n",
    "        dtypes = {\n",
    "            'indicator_id': 'object',\n",
    "            'region_id': 'int32',\n",
    "            'value': 'float32',\n",
    "            'date': 'object'\n",
    "        }\n",
    "        df_list = []\n",
    "        count = 0\n",
    "\n",
    "        #raw_data_path: str=os.path.join('artifacts/data_ingestion/','ZILLOW_DATA_962c837a6ccefddddf190101e0bafdaf.csv')\n",
    "        print(\"\\n printing os path current directory\")\n",
    "        print(os.getcwd())\n",
    "\n",
    "\n",
    "        file_path = os.path.join('artifacts', 'data_ingestion', 'ZILLOW_DATA_962c837a6ccefddddf190101e0bafdaf.csv')\n",
    "        print(\"\\n printing file existance\")\n",
    "        print(os.path.exists(file_path))\n",
    "\n",
    "        \n",
    "        for chunk in pd.read_csv(self.file_name, chunksize=1000000,\n",
    "                                 usecols=['indicator_id', 'region_id', 'date', 'value'],\n",
    "                                 dtype=dtypes,\n",
    "                                 parse_dates=['date']):\n",
    "            filtered_chunk = chunk[(chunk['date'] >= self.start_date)]\n",
    "            df_list.append(filtered_chunk)\n",
    "\n",
    "        trimmed_df = pd.concat(df_list, ignore_index=True)\n",
    "\n",
    "        del df_list\n",
    "        \n",
    "        trimmed_data = pickle.dumps(trimmed_df)\n",
    "    \n",
    "        return trimmed_data\n",
    "\n",
    "    def get_year_month(self, data):\n",
    "        trimmed_df = pickle.loads(data)\n",
    "        trimmed_df['year'] = pd.to_datetime(trimmed_df['date']).dt.year\n",
    "        trimmed_df['month'] = pd.to_datetime(trimmed_df['date']).dt.month\n",
    "        trimmed_data = pickle.dumps(trimmed_df)\n",
    "        return trimmed_data\n",
    "\n",
    "    def get_stats(self, data):\n",
    "        trimmed_df = pickle.loads(data)\n",
    "        intersted_indicators_stats = ['IRAM', 'CRAM', 'MRAM', 'LRAM', 'NRAM', 'SRAM']\n",
    "        stat_df = trimmed_df[trimmed_df['indicator_id'].isin(intersted_indicators_stats)]\n",
    "        stat_pivot_df = stat_df.pivot_table(index=['region_id', 'year', 'month'], columns='indicator_id',\n",
    "                                           values='value', aggfunc='mean')\n",
    "        stat_pivot_df.reset_index(inplace=True)\n",
    "        stat_pivot_df.dropna(inplace=True)\n",
    "        stat_pivot_df.to_csv(\"stat.csv\")\n",
    "        del stat_df\n",
    "        trimmed_data = pickle.dumps(trimmed_df)\n",
    "        return trimmed_data\n",
    "\n",
    "    def get_merge(self, data):\n",
    "        trimmed_df = pickle.loads(data)\n",
    "        df = pd.read_csv('stat.csv')\n",
    "        intersted_indicators_ZHVI = ['ZATT', 'ZSFH', 'ZALL', 'ZCON', 'ZABT', 'Z2BR', 'Z5BR', 'Z3BR', 'Z1BR', 'Z4BR']\n",
    "        ZHVI_df = trimmed_df[trimmed_df['indicator_id'].isin(intersted_indicators_ZHVI)]\n",
    "        del trimmed_df\n",
    "        final_df = pd.merge(ZHVI_df, df, on=['region_id', 'year', 'month'], how='inner')\n",
    "        final_data = pickle.dumps(final_df)\n",
    "        final_df.to_csv(\"final.csv\")\n",
    "        return final_data\n"
   ]
  },
  {
   "cell_type": "code",
   "execution_count": 7,
   "metadata": {},
   "outputs": [],
   "source": [
    "from ZillowHouseData.components.data_preprocessing import DataPreprocessing\n",
    "from ZillowHouseData.logger import logger\n",
    "from ZillowHouseData.exception import CustomException\n",
    "from ZillowHouseData.config.configuration import ConfigurationManager\n",
    "from ZillowHouseData.pipeline.stage_01_data_ingestion import ingestion_stage\n",
    "import sys"
   ]
  },
  {
   "cell_type": "code",
   "execution_count": 14,
   "metadata": {},
   "outputs": [
    {
     "name": "stdout",
     "output_type": "stream",
     "text": [
      "[2023-11-10 20:32:28,322: INFO: 1457263588: >>>>>> stage Data Preprocessing stage initated <<<<<<\n",
      "\n",
      "x==========x]\n",
      "[2023-11-10 20:32:28,323: INFO: 1457263588: >>>>>> stage Data Preprocessing stage initated <<<<<<\n",
      "\n",
      "x==========x]\n",
      "\n",
      " printing os path current directory\n",
      "/Users/keshavkumarelankovan/Desktop/ML_OPS/Skirmish/Zillow-data-ML-project/notebook\n",
      "\n",
      " printing file existance\n",
      "False\n",
      "[2023-11-10 20:32:28,325: ERROR: 1457263588: [Errno 2] No such file or directory: '. /artifacts/data_ingestion/ZILLOW_DATA_962c837a6ccefddddf190101e0bafdaf.csv']\n",
      "Traceback (most recent call last):\n",
      "  File \"/var/folders/kp/6197l28d6yzb5wygdgr1hb7w0000gn/T/ipykernel_34285/1457263588.py\", line 33, in <module>\n",
      "    obj1.main()\n",
      "  File \"/var/folders/kp/6197l28d6yzb5wygdgr1hb7w0000gn/T/ipykernel_34285/1457263588.py\", line 14, in main\n",
      "    processed_data = data_preprocessor.data_preprocessing()\n",
      "  File \"/var/folders/kp/6197l28d6yzb5wygdgr1hb7w0000gn/T/ipykernel_34285/324563388.py\", line 28, in data_preprocessing\n",
      "    for chunk in pd.read_csv(self.file_name, chunksize=1000000,\n",
      "  File \"/Users/keshavkumarelankovan/Desktop/ML_OPS/Skirmish/Zillow-data-ML-project/mlops_zillow/lib/python3.10/site-packages/pandas/io/parsers/readers.py\", line 948, in read_csv\n",
      "    return _read(filepath_or_buffer, kwds)\n",
      "  File \"/Users/keshavkumarelankovan/Desktop/ML_OPS/Skirmish/Zillow-data-ML-project/mlops_zillow/lib/python3.10/site-packages/pandas/io/parsers/readers.py\", line 611, in _read\n",
      "    parser = TextFileReader(filepath_or_buffer, **kwds)\n",
      "  File \"/Users/keshavkumarelankovan/Desktop/ML_OPS/Skirmish/Zillow-data-ML-project/mlops_zillow/lib/python3.10/site-packages/pandas/io/parsers/readers.py\", line 1448, in __init__\n",
      "    self._engine = self._make_engine(f, self.engine)\n",
      "  File \"/Users/keshavkumarelankovan/Desktop/ML_OPS/Skirmish/Zillow-data-ML-project/mlops_zillow/lib/python3.10/site-packages/pandas/io/parsers/readers.py\", line 1705, in _make_engine\n",
      "    self.handles = get_handle(\n",
      "  File \"/Users/keshavkumarelankovan/Desktop/ML_OPS/Skirmish/Zillow-data-ML-project/mlops_zillow/lib/python3.10/site-packages/pandas/io/common.py\", line 863, in get_handle\n",
      "    handle = open(\n",
      "FileNotFoundError: [Errno 2] No such file or directory: '. /artifacts/data_ingestion/ZILLOW_DATA_962c837a6ccefddddf190101e0bafdaf.csv'\n"
     ]
    },
    {
     "ename": "CustomException",
     "evalue": "Error occured in python script name [/var/folders/kp/6197l28d6yzb5wygdgr1hb7w0000gn/T/ipykernel_34285/1457263588.py] line number [33] error message [[Errno 2] No such file or directory: '. /artifacts/data_ingestion/ZILLOW_DATA_962c837a6ccefddddf190101e0bafdaf.csv']",
     "output_type": "error",
     "traceback": [
      "\u001b[0;31m---------------------------------------------------------------------------\u001b[0m",
      "\u001b[0;31mFileNotFoundError\u001b[0m                         Traceback (most recent call last)",
      "\u001b[1;32m/Users/keshavkumarelankovan/Desktop/ML_OPS/Skirmish/Zillow-data-ML-project/notebook/02_data_preprocessing.ipynb Cell 4\u001b[0m line \u001b[0;36m3\n\u001b[1;32m     <a href='vscode-notebook-cell:/Users/keshavkumarelankovan/Desktop/ML_OPS/Skirmish/Zillow-data-ML-project/notebook/02_data_preprocessing.ipynb#W3sZmlsZQ%3D%3D?line=31'>32</a>\u001b[0m obj1 \u001b[39m=\u001b[39m DataPreprocessingTrainingPipeline()\n\u001b[0;32m---> <a href='vscode-notebook-cell:/Users/keshavkumarelankovan/Desktop/ML_OPS/Skirmish/Zillow-data-ML-project/notebook/02_data_preprocessing.ipynb#W3sZmlsZQ%3D%3D?line=32'>33</a>\u001b[0m obj1\u001b[39m.\u001b[39;49mmain()\n\u001b[1;32m     <a href='vscode-notebook-cell:/Users/keshavkumarelankovan/Desktop/ML_OPS/Skirmish/Zillow-data-ML-project/notebook/02_data_preprocessing.ipynb#W3sZmlsZQ%3D%3D?line=33'>34</a>\u001b[0m logger\u001b[39m.\u001b[39minfo(\u001b[39mf\u001b[39m\u001b[39m\"\u001b[39m\u001b[39m>>>>>> stage \u001b[39m\u001b[39m{\u001b[39;00mSTAGE_NAME\u001b[39m}\u001b[39;00m\u001b[39m completed <<<<<<\u001b[39m\u001b[39m\\n\u001b[39;00m\u001b[39m\\n\u001b[39;00m\u001b[39mx==========x\u001b[39m\u001b[39m\"\u001b[39m)\n",
      "\u001b[1;32m/Users/keshavkumarelankovan/Desktop/ML_OPS/Skirmish/Zillow-data-ML-project/notebook/02_data_preprocessing.ipynb Cell 4\u001b[0m line \u001b[0;36m1\n\u001b[1;32m     <a href='vscode-notebook-cell:/Users/keshavkumarelankovan/Desktop/ML_OPS/Skirmish/Zillow-data-ML-project/notebook/02_data_preprocessing.ipynb#W3sZmlsZQ%3D%3D?line=10'>11</a>\u001b[0m \u001b[39m# Replace 'your_data_bytes_here' with the actual data bytes you want to process\u001b[39;00m\n\u001b[1;32m     <a href='vscode-notebook-cell:/Users/keshavkumarelankovan/Desktop/ML_OPS/Skirmish/Zillow-data-ML-project/notebook/02_data_preprocessing.ipynb#W3sZmlsZQ%3D%3D?line=11'>12</a>\u001b[0m \u001b[39m#data = b'your_data_bytes_here'\u001b[39;00m\n\u001b[1;32m     <a href='vscode-notebook-cell:/Users/keshavkumarelankovan/Desktop/ML_OPS/Skirmish/Zillow-data-ML-project/notebook/02_data_preprocessing.ipynb#W3sZmlsZQ%3D%3D?line=12'>13</a>\u001b[0m \u001b[39m# Stage 1: Data Preprocessing\u001b[39;00m\n\u001b[0;32m---> <a href='vscode-notebook-cell:/Users/keshavkumarelankovan/Desktop/ML_OPS/Skirmish/Zillow-data-ML-project/notebook/02_data_preprocessing.ipynb#W3sZmlsZQ%3D%3D?line=13'>14</a>\u001b[0m processed_data \u001b[39m=\u001b[39m data_preprocessor\u001b[39m.\u001b[39;49mdata_preprocessing()\n\u001b[1;32m     <a href='vscode-notebook-cell:/Users/keshavkumarelankovan/Desktop/ML_OPS/Skirmish/Zillow-data-ML-project/notebook/02_data_preprocessing.ipynb#W3sZmlsZQ%3D%3D?line=14'>15</a>\u001b[0m \u001b[39m# Stage 2: Extract Year and Month\u001b[39;00m\n",
      "\u001b[1;32m/Users/keshavkumarelankovan/Desktop/ML_OPS/Skirmish/Zillow-data-ML-project/notebook/02_data_preprocessing.ipynb Cell 4\u001b[0m line \u001b[0;36m2\n\u001b[1;32m     <a href='vscode-notebook-cell:/Users/keshavkumarelankovan/Desktop/ML_OPS/Skirmish/Zillow-data-ML-project/notebook/02_data_preprocessing.ipynb#W3sZmlsZQ%3D%3D?line=24'>25</a>\u001b[0m \u001b[39mprint\u001b[39m(os\u001b[39m.\u001b[39mpath\u001b[39m.\u001b[39mexists(file_path))\n\u001b[0;32m---> <a href='vscode-notebook-cell:/Users/keshavkumarelankovan/Desktop/ML_OPS/Skirmish/Zillow-data-ML-project/notebook/02_data_preprocessing.ipynb#W3sZmlsZQ%3D%3D?line=27'>28</a>\u001b[0m \u001b[39mfor\u001b[39;00m chunk \u001b[39min\u001b[39;00m pd\u001b[39m.\u001b[39;49mread_csv(\u001b[39mself\u001b[39;49m\u001b[39m.\u001b[39;49mfile_name, chunksize\u001b[39m=\u001b[39;49m\u001b[39m1000000\u001b[39;49m,\n\u001b[1;32m     <a href='vscode-notebook-cell:/Users/keshavkumarelankovan/Desktop/ML_OPS/Skirmish/Zillow-data-ML-project/notebook/02_data_preprocessing.ipynb#W3sZmlsZQ%3D%3D?line=28'>29</a>\u001b[0m                          usecols\u001b[39m=\u001b[39;49m[\u001b[39m'\u001b[39;49m\u001b[39mindicator_id\u001b[39;49m\u001b[39m'\u001b[39;49m, \u001b[39m'\u001b[39;49m\u001b[39mregion_id\u001b[39;49m\u001b[39m'\u001b[39;49m, \u001b[39m'\u001b[39;49m\u001b[39mdate\u001b[39;49m\u001b[39m'\u001b[39;49m, \u001b[39m'\u001b[39;49m\u001b[39mvalue\u001b[39;49m\u001b[39m'\u001b[39;49m],\n\u001b[1;32m     <a href='vscode-notebook-cell:/Users/keshavkumarelankovan/Desktop/ML_OPS/Skirmish/Zillow-data-ML-project/notebook/02_data_preprocessing.ipynb#W3sZmlsZQ%3D%3D?line=29'>30</a>\u001b[0m                          dtype\u001b[39m=\u001b[39;49mdtypes,\n\u001b[1;32m     <a href='vscode-notebook-cell:/Users/keshavkumarelankovan/Desktop/ML_OPS/Skirmish/Zillow-data-ML-project/notebook/02_data_preprocessing.ipynb#W3sZmlsZQ%3D%3D?line=30'>31</a>\u001b[0m                          parse_dates\u001b[39m=\u001b[39;49m[\u001b[39m'\u001b[39;49m\u001b[39mdate\u001b[39;49m\u001b[39m'\u001b[39;49m]):\n\u001b[1;32m     <a href='vscode-notebook-cell:/Users/keshavkumarelankovan/Desktop/ML_OPS/Skirmish/Zillow-data-ML-project/notebook/02_data_preprocessing.ipynb#W3sZmlsZQ%3D%3D?line=31'>32</a>\u001b[0m     filtered_chunk \u001b[39m=\u001b[39m chunk[(chunk[\u001b[39m'\u001b[39m\u001b[39mdate\u001b[39m\u001b[39m'\u001b[39m] \u001b[39m>\u001b[39m\u001b[39m=\u001b[39m \u001b[39mself\u001b[39m\u001b[39m.\u001b[39mstart_date)]\n",
      "File \u001b[0;32m~/Desktop/ML_OPS/Skirmish/Zillow-data-ML-project/mlops_zillow/lib/python3.10/site-packages/pandas/io/parsers/readers.py:948\u001b[0m, in \u001b[0;36mread_csv\u001b[0;34m(filepath_or_buffer, sep, delimiter, header, names, index_col, usecols, dtype, engine, converters, true_values, false_values, skipinitialspace, skiprows, skipfooter, nrows, na_values, keep_default_na, na_filter, verbose, skip_blank_lines, parse_dates, infer_datetime_format, keep_date_col, date_parser, date_format, dayfirst, cache_dates, iterator, chunksize, compression, thousands, decimal, lineterminator, quotechar, quoting, doublequote, escapechar, comment, encoding, encoding_errors, dialect, on_bad_lines, delim_whitespace, low_memory, memory_map, float_precision, storage_options, dtype_backend)\u001b[0m\n\u001b[1;32m    946\u001b[0m kwds\u001b[39m.\u001b[39mupdate(kwds_defaults)\n\u001b[0;32m--> 948\u001b[0m \u001b[39mreturn\u001b[39;00m _read(filepath_or_buffer, kwds)\n",
      "File \u001b[0;32m~/Desktop/ML_OPS/Skirmish/Zillow-data-ML-project/mlops_zillow/lib/python3.10/site-packages/pandas/io/parsers/readers.py:611\u001b[0m, in \u001b[0;36m_read\u001b[0;34m(filepath_or_buffer, kwds)\u001b[0m\n\u001b[1;32m    610\u001b[0m \u001b[39m# Create the parser.\u001b[39;00m\n\u001b[0;32m--> 611\u001b[0m parser \u001b[39m=\u001b[39m TextFileReader(filepath_or_buffer, \u001b[39m*\u001b[39;49m\u001b[39m*\u001b[39;49mkwds)\n\u001b[1;32m    613\u001b[0m \u001b[39mif\u001b[39;00m chunksize \u001b[39mor\u001b[39;00m iterator:\n",
      "File \u001b[0;32m~/Desktop/ML_OPS/Skirmish/Zillow-data-ML-project/mlops_zillow/lib/python3.10/site-packages/pandas/io/parsers/readers.py:1448\u001b[0m, in \u001b[0;36mTextFileReader.__init__\u001b[0;34m(self, f, engine, **kwds)\u001b[0m\n\u001b[1;32m   1447\u001b[0m \u001b[39mself\u001b[39m\u001b[39m.\u001b[39mhandles: IOHandles \u001b[39m|\u001b[39m \u001b[39mNone\u001b[39;00m \u001b[39m=\u001b[39m \u001b[39mNone\u001b[39;00m\n\u001b[0;32m-> 1448\u001b[0m \u001b[39mself\u001b[39m\u001b[39m.\u001b[39m_engine \u001b[39m=\u001b[39m \u001b[39mself\u001b[39;49m\u001b[39m.\u001b[39;49m_make_engine(f, \u001b[39mself\u001b[39;49m\u001b[39m.\u001b[39;49mengine)\n",
      "File \u001b[0;32m~/Desktop/ML_OPS/Skirmish/Zillow-data-ML-project/mlops_zillow/lib/python3.10/site-packages/pandas/io/parsers/readers.py:1705\u001b[0m, in \u001b[0;36mTextFileReader._make_engine\u001b[0;34m(self, f, engine)\u001b[0m\n\u001b[1;32m   1704\u001b[0m         mode \u001b[39m+\u001b[39m\u001b[39m=\u001b[39m \u001b[39m\"\u001b[39m\u001b[39mb\u001b[39m\u001b[39m\"\u001b[39m\n\u001b[0;32m-> 1705\u001b[0m \u001b[39mself\u001b[39m\u001b[39m.\u001b[39mhandles \u001b[39m=\u001b[39m get_handle(\n\u001b[1;32m   1706\u001b[0m     f,\n\u001b[1;32m   1707\u001b[0m     mode,\n\u001b[1;32m   1708\u001b[0m     encoding\u001b[39m=\u001b[39;49m\u001b[39mself\u001b[39;49m\u001b[39m.\u001b[39;49moptions\u001b[39m.\u001b[39;49mget(\u001b[39m\"\u001b[39;49m\u001b[39mencoding\u001b[39;49m\u001b[39m\"\u001b[39;49m, \u001b[39mNone\u001b[39;49;00m),\n\u001b[1;32m   1709\u001b[0m     compression\u001b[39m=\u001b[39;49m\u001b[39mself\u001b[39;49m\u001b[39m.\u001b[39;49moptions\u001b[39m.\u001b[39;49mget(\u001b[39m\"\u001b[39;49m\u001b[39mcompression\u001b[39;49m\u001b[39m\"\u001b[39;49m, \u001b[39mNone\u001b[39;49;00m),\n\u001b[1;32m   1710\u001b[0m     memory_map\u001b[39m=\u001b[39;49m\u001b[39mself\u001b[39;49m\u001b[39m.\u001b[39;49moptions\u001b[39m.\u001b[39;49mget(\u001b[39m\"\u001b[39;49m\u001b[39mmemory_map\u001b[39;49m\u001b[39m\"\u001b[39;49m, \u001b[39mFalse\u001b[39;49;00m),\n\u001b[1;32m   1711\u001b[0m     is_text\u001b[39m=\u001b[39;49mis_text,\n\u001b[1;32m   1712\u001b[0m     errors\u001b[39m=\u001b[39;49m\u001b[39mself\u001b[39;49m\u001b[39m.\u001b[39;49moptions\u001b[39m.\u001b[39;49mget(\u001b[39m\"\u001b[39;49m\u001b[39mencoding_errors\u001b[39;49m\u001b[39m\"\u001b[39;49m, \u001b[39m\"\u001b[39;49m\u001b[39mstrict\u001b[39;49m\u001b[39m\"\u001b[39;49m),\n\u001b[1;32m   1713\u001b[0m     storage_options\u001b[39m=\u001b[39;49m\u001b[39mself\u001b[39;49m\u001b[39m.\u001b[39;49moptions\u001b[39m.\u001b[39;49mget(\u001b[39m\"\u001b[39;49m\u001b[39mstorage_options\u001b[39;49m\u001b[39m\"\u001b[39;49m, \u001b[39mNone\u001b[39;49;00m),\n\u001b[1;32m   1714\u001b[0m )\n\u001b[1;32m   1715\u001b[0m \u001b[39massert\u001b[39;00m \u001b[39mself\u001b[39m\u001b[39m.\u001b[39mhandles \u001b[39mis\u001b[39;00m \u001b[39mnot\u001b[39;00m \u001b[39mNone\u001b[39;00m\n",
      "File \u001b[0;32m~/Desktop/ML_OPS/Skirmish/Zillow-data-ML-project/mlops_zillow/lib/python3.10/site-packages/pandas/io/common.py:863\u001b[0m, in \u001b[0;36mget_handle\u001b[0;34m(path_or_buf, mode, encoding, compression, memory_map, is_text, errors, storage_options)\u001b[0m\n\u001b[1;32m    861\u001b[0m \u001b[39mif\u001b[39;00m ioargs\u001b[39m.\u001b[39mencoding \u001b[39mand\u001b[39;00m \u001b[39m\"\u001b[39m\u001b[39mb\u001b[39m\u001b[39m\"\u001b[39m \u001b[39mnot\u001b[39;00m \u001b[39min\u001b[39;00m ioargs\u001b[39m.\u001b[39mmode:\n\u001b[1;32m    862\u001b[0m     \u001b[39m# Encoding\u001b[39;00m\n\u001b[0;32m--> 863\u001b[0m     handle \u001b[39m=\u001b[39m \u001b[39mopen\u001b[39;49m(\n\u001b[1;32m    864\u001b[0m         handle,\n\u001b[1;32m    865\u001b[0m         ioargs\u001b[39m.\u001b[39;49mmode,\n\u001b[1;32m    866\u001b[0m         encoding\u001b[39m=\u001b[39;49mioargs\u001b[39m.\u001b[39;49mencoding,\n\u001b[1;32m    867\u001b[0m         errors\u001b[39m=\u001b[39;49merrors,\n\u001b[1;32m    868\u001b[0m         newline\u001b[39m=\u001b[39;49m\u001b[39m\"\u001b[39;49m\u001b[39m\"\u001b[39;49m,\n\u001b[1;32m    869\u001b[0m     )\n\u001b[1;32m    870\u001b[0m \u001b[39melse\u001b[39;00m:\n\u001b[1;32m    871\u001b[0m     \u001b[39m# Binary mode\u001b[39;00m\n",
      "\u001b[0;31mFileNotFoundError\u001b[0m: [Errno 2] No such file or directory: '. /artifacts/data_ingestion/ZILLOW_DATA_962c837a6ccefddddf190101e0bafdaf.csv'",
      "\nDuring handling of the above exception, another exception occurred:\n",
      "\u001b[0;31mCustomException\u001b[0m                           Traceback (most recent call last)",
      "\u001b[1;32m/Users/keshavkumarelankovan/Desktop/ML_OPS/Skirmish/Zillow-data-ML-project/notebook/02_data_preprocessing.ipynb Cell 4\u001b[0m line \u001b[0;36m3\n\u001b[1;32m     <a href='vscode-notebook-cell:/Users/keshavkumarelankovan/Desktop/ML_OPS/Skirmish/Zillow-data-ML-project/notebook/02_data_preprocessing.ipynb#W3sZmlsZQ%3D%3D?line=34'>35</a>\u001b[0m \u001b[39mexcept\u001b[39;00m \u001b[39mException\u001b[39;00m \u001b[39mas\u001b[39;00m e:\n\u001b[1;32m     <a href='vscode-notebook-cell:/Users/keshavkumarelankovan/Desktop/ML_OPS/Skirmish/Zillow-data-ML-project/notebook/02_data_preprocessing.ipynb#W3sZmlsZQ%3D%3D?line=35'>36</a>\u001b[0m     logger\u001b[39m.\u001b[39mexception(e)\n\u001b[0;32m---> <a href='vscode-notebook-cell:/Users/keshavkumarelankovan/Desktop/ML_OPS/Skirmish/Zillow-data-ML-project/notebook/02_data_preprocessing.ipynb#W3sZmlsZQ%3D%3D?line=36'>37</a>\u001b[0m     \u001b[39mraise\u001b[39;00m CustomException(e,sys)\n",
      "\u001b[0;31mCustomException\u001b[0m: Error occured in python script name [/var/folders/kp/6197l28d6yzb5wygdgr1hb7w0000gn/T/ipykernel_34285/1457263588.py] line number [33] error message [[Errno 2] No such file or directory: '. /artifacts/data_ingestion/ZILLOW_DATA_962c837a6ccefddddf190101e0bafdaf.csv']"
     ]
    }
   ],
   "source": [
    "STAGE_NAME = \"Data Preprocessing stage\"\n",
    "\n",
    "class DataPreprocessingTrainingPipeline:\n",
    "    def __init__(self):\n",
    "        pass\n",
    "\n",
    "    def main(self):\n",
    "            # Create an instance of the DataPreprocessing class\n",
    "            logger.info(f\">>>>>> stage {STAGE_NAME} initated <<<<<<\\n\\nx==========x\")\n",
    "            data_preprocessor = DataPreprocessing()\n",
    "            # Replace 'your_data_bytes_here' with the actual data bytes you want to process\n",
    "            #data = b'your_data_bytes_here'\n",
    "            # Stage 1: Data Preprocessing\n",
    "            processed_data = data_preprocessor.data_preprocessing()\n",
    "            # Stage 2: Extract Year and Month\n",
    "            logger.info(f\">>>>>> exact year & month <<<<<<\\n\\nx==========x\")\n",
    "            processed_data = data_preprocessor.get_year_month(processed_data)\n",
    "            # Stage 3: Get Stats\n",
    "            logger.info(f\">>>>>> get stats <<<<<<\\n\\nx==========x\")\n",
    "            processed_data = data_preprocessor.get_stats(processed_data)\n",
    "            # Stage 4: Merge Data\n",
    "            logger.info(f\">>>>>> merging data <<<<<<\\n\\nx==========x\")\n",
    "            final_data = data_preprocessor.get_merge(processed_data)\n",
    "            print(final_data)\n",
    "\n",
    "\n",
    "\n",
    "if __name__ == '__main__':\n",
    "    #ingestion_stage()\n",
    "    try:\n",
    "        logger.info(f\">>>>>> stage {STAGE_NAME} initated <<<<<<\\n\\nx==========x\")\n",
    "        obj1 = DataPreprocessingTrainingPipeline()\n",
    "        obj1.main()\n",
    "        logger.info(f\">>>>>> stage {STAGE_NAME} completed <<<<<<\\n\\nx==========x\")\n",
    "    except Exception as e:\n",
    "        logger.exception(e)\n",
    "        raise CustomException(e,sys)\n",
    "    \n"
   ]
  },
  {
   "cell_type": "code",
   "execution_count": 23,
   "metadata": {},
   "outputs": [
    {
     "name": "stdout",
     "output_type": "stream",
     "text": [
      "True\n",
      "/Users/keshavkumarelankovan/Desktop/ML_OPS/Skirmish/Zillow-data-ML-project/notebook\n"
     ]
    }
   ],
   "source": [
    "file_name = 'ZILLOW_DATA_962c837a6ccefddddf190101e0bafdaf.csv'\n",
    "file = os.path.join('..','artifacts', 'data_ingestion',file_name)\n",
    "print(os.path.exists(file))\n",
    "print(os.getcwd())"
   ]
  },
  {
   "cell_type": "code",
   "execution_count": 22,
   "metadata": {},
   "outputs": [
    {
     "name": "stdout",
     "output_type": "stream",
     "text": [
      "/Users/keshavkumarelankovan/Desktop/ML_OPS/Skirmish/Zillow-data-ML-project/mlops_zillow/lib/python3.10/site-packages\n",
      "File exists: False\n",
      "Current working directory: /Users/keshavkumarelankovan/Desktop/ML_OPS/Skirmish/Zillow-data-ML-project/notebook\n"
     ]
    }
   ],
   "source": [
    "file_name = 'ZILLOW_DATA_962c837a6ccefddddf190101e0bafdaf.csv'\n",
    "#script_dir = os.path.dirname(os.path.abspath(__file__))\n",
    "script_dir = os.path.dirname(os.path.realpath(sys.argv[0]))\n",
    "print(script_dir)\n",
    "file_relative_path = os.path.join(script_dir, '..','artifacts', 'data_ingestion', file_name)\n",
    "\n",
    "# Check if the file exists\n",
    "print(\"File exists:\", os.path.exists(file_relative_path))\n",
    "\n",
    "# Print the current working directory\n",
    "print(\"Current working directory:\", os.getcwd())\n"
   ]
  },
  {
   "cell_type": "code",
   "execution_count": 25,
   "metadata": {},
   "outputs": [],
   "source": [
    "#os.chdir('../')"
   ]
  }
 ],
 "metadata": {
  "kernelspec": {
   "display_name": "mlops_zillow",
   "language": "python",
   "name": "python3"
  },
  "language_info": {
   "codemirror_mode": {
    "name": "ipython",
    "version": 3
   },
   "file_extension": ".py",
   "mimetype": "text/x-python",
   "name": "python",
   "nbconvert_exporter": "python",
   "pygments_lexer": "ipython3",
   "version": "3.10.7"
  }
 },
 "nbformat": 4,
 "nbformat_minor": 2
}
