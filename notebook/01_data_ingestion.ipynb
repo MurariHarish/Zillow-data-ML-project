{
 "cells": [
  {
   "cell_type": "code",
   "execution_count": 1,
   "metadata": {},
   "outputs": [],
   "source": [
    "import os\n",
    "import pandas as pd\n"
   ]
  },
  {
   "cell_type": "code",
   "execution_count": null,
   "metadata": {},
   "outputs": [],
   "source": [
    "zillow_price_df = pd.read_csv(\"data/zillow_house_price.csv\")\n",
    "zillow_indicator_df = pd.read_csv(\"data/zillow_house_indicators.csv\")\n",
    "zillow_region_df = pd.read_csv(\"data/zillow_house_regions.csv\")"
   ]
  },
  {
   "cell_type": "code",
   "execution_count": 12,
   "metadata": {},
   "outputs": [],
   "source": [
    "# Merge the datasets\n",
    "# First, merge ZILLOW DATA with ZILLOW INDICATORS on 'indicator_id'\n",
    "merged_df = pd.merge(zillow_price_df, zillow_indicator_df, on='indicator_id', how='left')\n",
    "\n",
    "# Then, merge the resulting DataFrame with ZILLOW REGIONS on 'region_id'\n",
    "final_merged_df = pd.merge(merged_df, zillow_region_df, on='region_id', how='left')\n"
   ]
  },
  {
   "cell_type": "code",
   "execution_count": 25,
   "metadata": {},
   "outputs": [],
   "source": [
    "zillow_state_filtered_df = final_merged_df[final_merged_df['region_type'] == \"state\"]\n"
   ]
  },
  {
   "cell_type": "code",
   "execution_count": 19,
   "metadata": {},
   "outputs": [
    {
     "data": {
      "text/plain": [
       "category\n",
       "Home values            143998683\n",
       "Inventory and sales      5539257\n",
       "Rentals                   680021\n",
       "Name: count, dtype: int64"
      ]
     },
     "execution_count": 19,
     "metadata": {},
     "output_type": "execute_result"
    }
   ],
   "source": [
    "final_merged_df['category'].value_counts()"
   ]
  },
  {
   "cell_type": "code",
   "execution_count": 23,
   "metadata": {},
   "outputs": [
    {
     "data": {
      "text/plain": [
       "region_type\n",
       "city      52684479\n",
       "zip       50024740\n",
       "neigh     32575273\n",
       "metro      8015666\n",
       "county     6751002\n",
       "state       166801\n",
       "Name: count, dtype: int64"
      ]
     },
     "metadata": {},
     "output_type": "display_data"
    }
   ],
   "source": [
    "final_merged_df['region_type'].value_counts()"
   ]
  },
  {
   "cell_type": "code",
   "execution_count": 48,
   "metadata": {},
   "outputs": [
    {
     "data": {
      "text/html": [
       "<div>\n",
       "<style scoped>\n",
       "    .dataframe tbody tr th:only-of-type {\n",
       "        vertical-align: middle;\n",
       "    }\n",
       "\n",
       "    .dataframe tbody tr th {\n",
       "        vertical-align: top;\n",
       "    }\n",
       "\n",
       "    .dataframe thead th {\n",
       "        text-align: right;\n",
       "    }\n",
       "</style>\n",
       "<table border=\"1\" class=\"dataframe\">\n",
       "  <thead>\n",
       "    <tr style=\"text-align: right;\">\n",
       "      <th></th>\n",
       "      <th>indicator_id</th>\n",
       "      <th>region_id</th>\n",
       "      <th>date</th>\n",
       "      <th>value</th>\n",
       "      <th>indicator</th>\n",
       "      <th>category</th>\n",
       "      <th>region_type</th>\n",
       "      <th>region</th>\n",
       "    </tr>\n",
       "  </thead>\n",
       "  <tbody>\n",
       "    <tr>\n",
       "      <th>24</th>\n",
       "      <td>ZATT</td>\n",
       "      <td>32</td>\n",
       "      <td>2000-01-31</td>\n",
       "      <td>190316.235702</td>\n",
       "      <td>ZHVI All Homes- Top Tier Time Series ($)</td>\n",
       "      <td>Home values</td>\n",
       "      <td>state</td>\n",
       "      <td>Missouri</td>\n",
       "    </tr>\n",
       "    <tr>\n",
       "      <th>25</th>\n",
       "      <td>ZATT</td>\n",
       "      <td>60</td>\n",
       "      <td>2000-01-31</td>\n",
       "      <td>207567.028078</td>\n",
       "      <td>ZHVI All Homes- Top Tier Time Series ($)</td>\n",
       "      <td>Home values</td>\n",
       "      <td>state</td>\n",
       "      <td>Wisconsin</td>\n",
       "    </tr>\n",
       "    <tr>\n",
       "      <th>26</th>\n",
       "      <td>ZATT</td>\n",
       "      <td>10</td>\n",
       "      <td>2000-01-31</td>\n",
       "      <td>306954.843208</td>\n",
       "      <td>ZHVI All Homes- Top Tier Time Series ($)</td>\n",
       "      <td>Home values</td>\n",
       "      <td>state</td>\n",
       "      <td>Colorado</td>\n",
       "    </tr>\n",
       "    <tr>\n",
       "      <th>27</th>\n",
       "      <td>ZATT</td>\n",
       "      <td>31</td>\n",
       "      <td>2000-01-31</td>\n",
       "      <td>224950.922544</td>\n",
       "      <td>ZHVI All Homes- Top Tier Time Series ($)</td>\n",
       "      <td>Home values</td>\n",
       "      <td>state</td>\n",
       "      <td>Minnesota</td>\n",
       "    </tr>\n",
       "    <tr>\n",
       "      <th>28</th>\n",
       "      <td>ZATT</td>\n",
       "      <td>51</td>\n",
       "      <td>2000-01-31</td>\n",
       "      <td>214393.929836</td>\n",
       "      <td>ZHVI All Homes- Top Tier Time Series ($)</td>\n",
       "      <td>Home values</td>\n",
       "      <td>state</td>\n",
       "      <td>South Carolina</td>\n",
       "    </tr>\n",
       "  </tbody>\n",
       "</table>\n",
       "</div>"
      ],
      "text/plain": [
       "   indicator_id  region_id        date          value  \\\n",
       "24         ZATT         32  2000-01-31  190316.235702   \n",
       "25         ZATT         60  2000-01-31  207567.028078   \n",
       "26         ZATT         10  2000-01-31  306954.843208   \n",
       "27         ZATT         31  2000-01-31  224950.922544   \n",
       "28         ZATT         51  2000-01-31  214393.929836   \n",
       "\n",
       "                                   indicator     category region_type  \\\n",
       "24  ZHVI All Homes- Top Tier Time Series ($)  Home values       state   \n",
       "25  ZHVI All Homes- Top Tier Time Series ($)  Home values       state   \n",
       "26  ZHVI All Homes- Top Tier Time Series ($)  Home values       state   \n",
       "27  ZHVI All Homes- Top Tier Time Series ($)  Home values       state   \n",
       "28  ZHVI All Homes- Top Tier Time Series ($)  Home values       state   \n",
       "\n",
       "            region  \n",
       "24        Missouri  \n",
       "25       Wisconsin  \n",
       "26        Colorado  \n",
       "27       Minnesota  \n",
       "28  South Carolina  "
      ]
     },
     "execution_count": 48,
     "metadata": {},
     "output_type": "execute_result"
    }
   ],
   "source": [
    "zillow_state_filtered_df.head()"
   ]
  },
  {
   "cell_type": "code",
   "execution_count": 49,
   "metadata": {},
   "outputs": [
    {
     "name": "stdout",
     "output_type": "stream",
     "text": [
      "<class 'pandas.core.frame.DataFrame'>\n",
      "Index: 166801 entries, 24 to 83337687\n",
      "Data columns (total 8 columns):\n",
      " #   Column        Non-Null Count   Dtype  \n",
      "---  ------        --------------   -----  \n",
      " 0   indicator_id  166801 non-null  object \n",
      " 1   region_id     166801 non-null  int64  \n",
      " 2   date          166801 non-null  object \n",
      " 3   value         166801 non-null  float64\n",
      " 4   indicator     166801 non-null  object \n",
      " 5   category      166801 non-null  object \n",
      " 6   region_type   166801 non-null  object \n",
      " 7   region        166801 non-null  object \n",
      "dtypes: float64(1), int64(1), object(6)\n",
      "memory usage: 11.5+ MB\n"
     ]
    }
   ],
   "source": [
    "zillow_state_filtered_df.info()"
   ]
  },
  {
   "cell_type": "code",
   "execution_count": null,
   "metadata": {},
   "outputs": [],
   "source": [
    "zillow_state_filtered_df['region'].value_counts()"
   ]
  },
  {
   "cell_type": "code",
   "execution_count": 50,
   "metadata": {},
   "outputs": [
    {
     "data": {
      "text/plain": [
       "indicator\n",
       "ZHVI Single-Family Homes Time Series ($)             16709\n",
       "ZHVI All Homes (SFR, Condo/Co-op) Time Series ($)    16709\n",
       "ZHVI All Homes- Bottom Tier Time Series ($)          16709\n",
       "ZHVI 3-Bedroom Time Series ($)                       16709\n",
       "ZHVI 4-Bedroom Time Series ($)                       16709\n",
       "ZHVI 5+ Bedroom Time Series ($)                      16706\n",
       "ZHVI 2-Bedroom Time Series ($)                       16704\n",
       "ZHVI All Homes- Top Tier Time Series ($)             16671\n",
       "ZHVI Condo/Co-op Time Series ($)                     16626\n",
       "ZHVI 1-Bedroom Time Series ($)                       16549\n",
       "Name: count, dtype: int64"
      ]
     },
     "execution_count": 50,
     "metadata": {},
     "output_type": "execute_result"
    }
   ],
   "source": [
    "zillow_state_filtered_df['indicator'].value_counts()"
   ]
  },
  {
   "cell_type": "code",
   "execution_count": 51,
   "metadata": {},
   "outputs": [
    {
     "data": {
      "text/plain": [
       "category\n",
       "Home values    166801\n",
       "Name: count, dtype: int64"
      ]
     },
     "execution_count": 51,
     "metadata": {},
     "output_type": "execute_result"
    }
   ],
   "source": [
    "zillow_state_filtered_df['category'].value_counts()"
   ]
  },
  {
   "cell_type": "code",
   "execution_count": 56,
   "metadata": {},
   "outputs": [],
   "source": [
    "final_zillow_state_df = zillow_state_filtered_df[['indicator_id','region_id', 'date', 'value']]"
   ]
  },
  {
   "cell_type": "code",
   "execution_count": 57,
   "metadata": {},
   "outputs": [
    {
     "data": {
      "text/html": [
       "<div>\n",
       "<style scoped>\n",
       "    .dataframe tbody tr th:only-of-type {\n",
       "        vertical-align: middle;\n",
       "    }\n",
       "\n",
       "    .dataframe tbody tr th {\n",
       "        vertical-align: top;\n",
       "    }\n",
       "\n",
       "    .dataframe thead th {\n",
       "        text-align: right;\n",
       "    }\n",
       "</style>\n",
       "<table border=\"1\" class=\"dataframe\">\n",
       "  <thead>\n",
       "    <tr style=\"text-align: right;\">\n",
       "      <th></th>\n",
       "      <th>indicator_id</th>\n",
       "      <th>region_id</th>\n",
       "      <th>date</th>\n",
       "      <th>value</th>\n",
       "    </tr>\n",
       "  </thead>\n",
       "  <tbody>\n",
       "    <tr>\n",
       "      <th>24</th>\n",
       "      <td>ZATT</td>\n",
       "      <td>32</td>\n",
       "      <td>2000-01-31</td>\n",
       "      <td>190316.235702</td>\n",
       "    </tr>\n",
       "    <tr>\n",
       "      <th>25</th>\n",
       "      <td>ZATT</td>\n",
       "      <td>60</td>\n",
       "      <td>2000-01-31</td>\n",
       "      <td>207567.028078</td>\n",
       "    </tr>\n",
       "    <tr>\n",
       "      <th>26</th>\n",
       "      <td>ZATT</td>\n",
       "      <td>10</td>\n",
       "      <td>2000-01-31</td>\n",
       "      <td>306954.843208</td>\n",
       "    </tr>\n",
       "    <tr>\n",
       "      <th>27</th>\n",
       "      <td>ZATT</td>\n",
       "      <td>31</td>\n",
       "      <td>2000-01-31</td>\n",
       "      <td>224950.922544</td>\n",
       "    </tr>\n",
       "    <tr>\n",
       "      <th>28</th>\n",
       "      <td>ZATT</td>\n",
       "      <td>51</td>\n",
       "      <td>2000-01-31</td>\n",
       "      <td>214393.929836</td>\n",
       "    </tr>\n",
       "  </tbody>\n",
       "</table>\n",
       "</div>"
      ],
      "text/plain": [
       "   indicator_id  region_id        date          value\n",
       "24         ZATT         32  2000-01-31  190316.235702\n",
       "25         ZATT         60  2000-01-31  207567.028078\n",
       "26         ZATT         10  2000-01-31  306954.843208\n",
       "27         ZATT         31  2000-01-31  224950.922544\n",
       "28         ZATT         51  2000-01-31  214393.929836"
      ]
     },
     "execution_count": 57,
     "metadata": {},
     "output_type": "execute_result"
    }
   ],
   "source": [
    "final_zillow_state_df.head()"
   ]
  },
  {
   "cell_type": "code",
   "execution_count": 59,
   "metadata": {},
   "outputs": [
    {
     "data": {
      "text/plain": [
       "date\n",
       "2013-05-31    510\n",
       "2014-09-30    510\n",
       "2015-03-31    510\n",
       "2015-02-28    510\n",
       "2015-01-31    510\n",
       "             ... \n",
       "1996-06-30    465\n",
       "1996-04-30    464\n",
       "1996-03-31    464\n",
       "1996-01-31    464\n",
       "1996-02-29    464\n",
       "Name: count, Length: 332, dtype: int64"
      ]
     },
     "execution_count": 59,
     "metadata": {},
     "output_type": "execute_result"
    }
   ],
   "source": [
    "final_zillow_state_df['date'].value_counts()"
   ]
  },
  {
   "cell_type": "code",
   "execution_count": 2,
   "metadata": {},
   "outputs": [],
   "source": [
    "#Download data from gdrive\n",
    "\n",
    "import gdown"
   ]
  },
  {
   "cell_type": "code",
   "execution_count": 3,
   "metadata": {},
   "outputs": [
    {
     "data": {
      "text/plain": [
       "'1MfTc_wxSmPrkQqb8a25pv6ciKiRYCND1'"
      ]
     },
     "execution_count": 3,
     "metadata": {},
     "output_type": "execute_result"
    }
   ],
   "source": [
    "url = \"https://drive.google.com/file/d/1MfTc_wxSmPrkQqb8a25pv6ciKiRYCND1/view?usp=sharing\"\n",
    "\n",
    "file_id = url.split(\"/\")[-2]\n",
    "file_id"
   ]
  },
  {
   "cell_type": "code",
   "execution_count": 4,
   "metadata": {},
   "outputs": [
    {
     "name": "stderr",
     "output_type": "stream",
     "text": [
      "Downloading...\n",
      "From (uriginal): https://drive.google.com/uc?/export=download&id=1MfTc_wxSmPrkQqb8a25pv6ciKiRYCND1\n",
      "From (redirected): https://drive.google.com/uc?/export=download&id=1MfTc_wxSmPrkQqb8a25pv6ciKiRYCND1&confirm=t&uuid=67250db5-4468-4090-bfba-6a8096231721\n",
      "To: /Users/hm/Documents/Github_Projects/Zillow-data-ML-project/notebook/zillow_files.zip\n",
      "100%|██████████| 1.54G/1.54G [00:22<00:00, 68.8MB/s]\n"
     ]
    },
    {
     "data": {
      "text/plain": [
       "'zillow_files.zip'"
      ]
     },
     "execution_count": 4,
     "metadata": {},
     "output_type": "execute_result"
    }
   ],
   "source": [
    "prefix = 'https://drive.google.com/uc?/export=download&id='\n",
    "gdown.download(prefix+file_id, \"zillow_files.zip\")"
   ]
  },
  {
   "cell_type": "code",
   "execution_count": 5,
   "metadata": {},
   "outputs": [
    {
     "data": {
      "text/plain": [
       "'/Users/hm/Documents/Github_Projects/Zillow-data-ML-project/notebook'"
      ]
     },
     "execution_count": 5,
     "metadata": {},
     "output_type": "execute_result"
    }
   ],
   "source": [
    "%pwd"
   ]
  },
  {
   "cell_type": "code",
   "execution_count": 8,
   "metadata": {},
   "outputs": [],
   "source": [
    "os.chdir(\"../\")"
   ]
  },
  {
   "cell_type": "code",
   "execution_count": 9,
   "metadata": {},
   "outputs": [
    {
     "data": {
      "text/plain": [
       "'/Users/hm/Documents/Github_Projects/Zillow-data-ML-project'"
      ]
     },
     "execution_count": 9,
     "metadata": {},
     "output_type": "execute_result"
    }
   ],
   "source": [
    "%pwd"
   ]
  },
  {
   "cell_type": "code",
   "execution_count": 43,
   "metadata": {},
   "outputs": [],
   "source": [
    "from dataclasses import dataclass\n",
    "from pathlib import Path\n",
    "\n",
    "@dataclass(frozen=True)\n",
    "class DataIngestionConfig:\n",
    "    root_dir : Path\n",
    "    source_URL : str\n",
    "    local_data_file : Path\n",
    "    unzip_dir : Path"
   ]
  },
  {
   "cell_type": "code",
   "execution_count": 42,
   "metadata": {},
   "outputs": [],
   "source": [
    "from ZillowHouseData.constants import *\n",
    "from ZillowHouseData.utils.common import create_directories, read_yaml\n",
    "\n",
    "class ConfigurationManager:\n",
    "    def __init__(\n",
    "        self,\n",
    "        config_filepath = CONFIG_FILE_PATH,\n",
    "        params_filepath = PARAMS_FILE_PATH):\n",
    "\n",
    "        self.config = read_yaml(config_filepath)\n",
    "        self.params = read_yaml(params_filepath)\n",
    "\n",
    "        create_directories([self.config.artifacts_root])\n",
    "\n",
    "\n",
    "    \n",
    "    def get_data_ingestion_config(self) -> DataIngestionConfig:\n",
    "        config = self.config.data_ingestion\n",
    "\n",
    "        create_directories([config.root_dir])\n",
    "\n",
    "        data_ingestion_config = DataIngestionConfig(\n",
    "            root_dir=config.root_dir,\n",
    "            source_URL=config.source_URL,\n",
    "            local_data_file=config.local_data_file,\n",
    "            unzip_dir=config.unzip_dir \n",
    "        )\n",
    "\n",
    "        return data_ingestion_config"
   ]
  },
  {
   "cell_type": "code",
   "execution_count": 44,
   "metadata": {},
   "outputs": [],
   "source": [
    "import os, sys\n",
    "import zipfile\n",
    "import gdown\n",
    "from ZillowHouseData.logger import logger\n",
    "from ZillowHouseData.exception import CustomException"
   ]
  },
  {
   "cell_type": "code",
   "execution_count": 66,
   "metadata": {},
   "outputs": [],
   "source": [
    "class DataIngestion:\n",
    "    def __init__(self, config: DataIngestionConfig):\n",
    "        self.config = config\n",
    "\n",
    "    \n",
    "    def download_file(self)-> str:\n",
    "        '''\n",
    "        Fetch data from the url\n",
    "        '''\n",
    "\n",
    "        try: \n",
    "            dataset_url = self.config.source_URL\n",
    "            zip_download_dir = self.config.local_data_file\n",
    "            os.makedirs(\"artifacts/data_ingestion\", exist_ok=True)\n",
    "            logger.info(f\"Downloading data from {dataset_url} into file {zip_download_dir}\")\n",
    "\n",
    "            file_id = dataset_url.split(\"/\")[-2]\n",
    "            prefix = 'https://drive.google.com/uc?/export=download&id='\n",
    "            gdown.download(prefix+file_id,zip_download_dir)\n",
    "\n",
    "            logger.info(f\"Downloaded data from {dataset_url} into file {zip_download_dir}\")\n",
    "\n",
    "        except Exception as e:\n",
    "            raise CustomException(e,sys)\n",
    "        \n",
    "\n",
    "    def extract_zip_file(self):\n",
    "        \"\"\"\n",
    "        zip_file_path: str\n",
    "        Extracts the zip file into the data directory\n",
    "        Function returns None\n",
    "        \"\"\"\n",
    "        unzip_path = self.config.unzip_dir\n",
    "        os.makedirs(unzip_path, exist_ok=True)\n",
    "        with zipfile.ZipFile(self.config.local_data_file, 'r') as zip_ref:\n",
    "            zip_ref.extractall(unzip_path)\n",
    "            logger.info(\"Extracted parent zip file\")\n",
    "        \n",
    "        # Get the path to the current working directory\n",
    "        os.chdir(unzip_path)\n",
    "        current_working_directory = os.getcwd()\n",
    "\n",
    "        # Iterate over the files in the current working directory\n",
    "        for file in os.listdir(current_working_directory):\n",
    "            # If the file is a zip file, unzip it\n",
    "            if file.endswith(\".zip\"):\n",
    "                with open(os.path.join(current_working_directory, file), 'rb') as f:\n",
    "                    zipfile.ZipFile(f).extractall()\n",
    "                    logger.info(f\"{file} data files extracted successfully\")\n",
    "\n",
    "        # Deleting zipfiles            \n",
    "        for file in os.listdir(current_working_directory):\n",
    "            if file.endswith(\".zip\"):\n",
    "                logger.info(f\"Deleted {file} file\")\n",
    "                os.remove(file)\n",
    "        \n",
    "        # Reset cwd+\n",
    "          \n",
    "        os.chdir('../..')\n",
    "        logger.info(f\"working directory resetted to {os.getcwd()}\")"
   ]
  },
  {
   "cell_type": "code",
   "execution_count": 67,
   "metadata": {},
   "outputs": [
    {
     "name": "stdout",
     "output_type": "stream",
     "text": [
      "[2023-11-09 12:44:01,628: INFO: common: yaml file: config/config.yaml loaded successfully]\n",
      "[2023-11-09 12:44:01,629: INFO: common: yaml file: params.yaml loaded successfully]\n",
      "[2023-11-09 12:44:01,631: INFO: common: created directory at: artifacts]\n",
      "[2023-11-09 12:44:01,632: INFO: common: created directory at: artifacts/data_ingestion]\n",
      "[2023-11-09 12:44:01,632: INFO: 1720642734: Downloading data from https://drive.google.com/file/d/1MfTc_wxSmPrkQqb8a25pv6ciKiRYCND1/view?usp=sharing into file artifacts/data_ingestion/zillow_files.zip]\n"
     ]
    },
    {
     "name": "stderr",
     "output_type": "stream",
     "text": [
      "Downloading...\n",
      "From (uriginal): https://drive.google.com/uc?/export=download&id=1MfTc_wxSmPrkQqb8a25pv6ciKiRYCND1\n",
      "From (redirected): https://drive.google.com/uc?/export=download&id=1MfTc_wxSmPrkQqb8a25pv6ciKiRYCND1&confirm=t&uuid=1a7b0dd2-558c-4dd6-928b-9ed6a4f177aa\n",
      "To: /Users/hm/Documents/Github_Projects/Zillow-data-ML-project/artifacts/data_ingestion/zillow_files.zip\n",
      "100%|██████████| 1.54G/1.54G [00:24<00:00, 61.8MB/s]"
     ]
    },
    {
     "name": "stdout",
     "output_type": "stream",
     "text": [
      "[2023-11-09 12:44:27,518: INFO: 1720642734: Downloaded data from https://drive.google.com/file/d/1MfTc_wxSmPrkQqb8a25pv6ciKiRYCND1/view?usp=sharing into file artifacts/data_ingestion/zillow_files.zip]\n"
     ]
    },
    {
     "name": "stderr",
     "output_type": "stream",
     "text": [
      "\n"
     ]
    },
    {
     "name": "stdout",
     "output_type": "stream",
     "text": [
      "[2023-11-09 12:44:33,380: INFO: 1720642734: Extracted parent zip file]\n",
      "[2023-11-09 12:44:33,382: INFO: 1720642734: zillow_indicators.zip data files extracted successfully]\n",
      "[2023-11-09 12:44:33,417: INFO: 1720642734: zillow_regions.zip data files extracted successfully]\n",
      "[2023-11-09 12:45:03,009: INFO: 1720642734: zillow_data.zip data files extracted successfully]\n",
      "[2023-11-09 12:45:09,083: INFO: 1720642734: zillow_files.zip data files extracted successfully]\n",
      "[2023-11-09 12:45:09,084: INFO: 1720642734: Deleted zillow_indicators.zip file]\n",
      "[2023-11-09 12:45:09,085: INFO: 1720642734: Deleted zillow_regions.zip file]\n",
      "[2023-11-09 12:45:09,085: INFO: 1720642734: Deleted zillow_data.zip file]\n",
      "[2023-11-09 12:45:09,116: INFO: 1720642734: Deleted zillow_files.zip file]\n",
      "[2023-11-09 12:45:09,205: INFO: 1720642734: working directory resetted to /Users/hm/Documents/Github_Projects/Zillow-data-ML-project]\n"
     ]
    }
   ],
   "source": [
    "try:\n",
    "    config = ConfigurationManager()\n",
    "    data_ingestion_config = config.get_data_ingestion_config()\n",
    "    data_ingestion = DataIngestion(config=data_ingestion_config)\n",
    "    data_ingestion.download_file()\n",
    "    data_ingestion.extract_zip_file()\n",
    "except Exception as e:\n",
    "    raise CustomException(e,sys)"
   ]
  },
  {
   "cell_type": "code",
   "execution_count": 62,
   "metadata": {},
   "outputs": [],
   "source": [
    "import os, sys, json, shutil\n",
    "import zipfile\n",
    "import requests\n",
    "\n",
    "class DataIngestion:\n",
    "\n",
    "    def download_file(self):\n",
    "        try:\n",
    "            dataset_list = [\"https://data.nasdaq.com/api/v3/datatables/ZILLOW/REGIONS?qopts.export=true&api_key=yaXdjWK7YAbeWZMoqphn\", \"https://data.nasdaq.com/api/v3/datatables/ZILLOW/INDICATORS?qopts.export=true&api_key=yaXdjWK7YAbeWZMoqphn\"]\n",
    "            for dataset_url in dataset_list:\n",
    "                json_download_dir = \"artifacts/data_ingestion/json\"\n",
    "                self.json_file_path = os.path.join(json_download_dir, \"download_link_indic.json\")\n",
    "                self.zip_download_dir = \"artifacts/data_ingestion/zip\"\n",
    "                self.zip_file_path = os.path.join(self.zip_download_dir, \"data.zip\")\n",
    "\n",
    "                # Create directories if they don't exist\n",
    "                if not os.path.exists(json_download_dir):\n",
    "                    os.makedirs(json_download_dir)\n",
    "                if not os.path.exists(self.zip_download_dir):\n",
    "                    os.makedirs(self.zip_download_dir)\n",
    "\n",
    "                # Download JSON file with download link\n",
    "                response = requests.get(dataset_url)\n",
    "                if response.status_code == 200:\n",
    "                    with open(self.json_file_path, 'wb') as file:\n",
    "                        file.write(response.content)\n",
    "\n",
    "                # Read download link from JSON file\n",
    "                with open(self.json_file_path, 'r') as json_file:\n",
    "                    download_link = json.loads(json_file.read())[\"datatable_bulk_download\"][\"file\"][\"link\"]\n",
    "\n",
    "                # Download ZIP file\n",
    "                response = requests.get(download_link)\n",
    "                if response.status_code == 200:\n",
    "                    with open(self.zip_file_path, 'wb') as file:\n",
    "                        file.write(response.content)\n",
    "                \n",
    "                self.extract_zip_file()\n",
    "\n",
    "        except Exception as e:\n",
    "            raise e\n",
    "\n",
    "    def extract_zip_file(self):\n",
    "        \"\"\"\n",
    "        Extracts the zip file into the data directory\n",
    "        Function returns None\n",
    "        \"\"\"\n",
    "        try:\n",
    "\n",
    "            unzip_path = \"artifacts/data_ingestion\"\n",
    "            if not os.path.exists(unzip_path):\n",
    "                os.makedirs(unzip_path)\n",
    "\n",
    "            # unzip_path = self.config.unzip_dir\n",
    "            os.makedirs(unzip_path, exist_ok=True)\n",
    "\n",
    "            with zipfile.ZipFile('artifacts/data_ingestion/zip/data.zip', 'r') as zip_ref:\n",
    "                zip_ref.extractall(unzip_path)\n",
    "                # logger.info(\"Extracted zip file\")\n",
    "            \n",
    "            if os.path.isdir(os.path.dirname(self.json_file_path)):\n",
    "                shutil.rmtree(os.path.dirname(self.json_file_path))\n",
    "\n",
    "            if os.path.isdir(os.path.dirname(self.zip_file_path)):\n",
    "                shutil.rmtree(os.path.dirname(self.zip_file_path))\n",
    "\n",
    "        except Exception as e:\n",
    "            raise CustomException(e,sys)\n",
    "\n",
    "        # logger.info(\"Zip file extraction complete\")\n",
    "\n",
    "# Usage\n",
    "data_ingestion = DataIngestion()\n",
    "data_ingestion.download_file()\n",
    "# data_ingestion.extract_zip_file() # Call this after confirming the download is successful\n"
   ]
  },
  {
   "cell_type": "code",
   "execution_count": 35,
   "metadata": {},
   "outputs": [
    {
     "data": {
      "text/plain": [
       "'artifacts/data_ingestion/zip/data.zip'"
      ]
     },
     "execution_count": 35,
     "metadata": {},
     "output_type": "execute_result"
    }
   ],
   "source": [
    "zip_download_dir = \"artifacts/data_ingestion/zip\"\n",
    "os.path.join(zip_download_dir, \"data.zip\")"
   ]
  },
  {
   "cell_type": "code",
   "execution_count": 57,
   "metadata": {},
   "outputs": [],
   "source": [
    "import shutil\n",
    "json_download_dir = \"artifacts/data_ingestion/json\"\n",
    "json_file_path = os.path.join(json_download_dir, \"download_link_indic.json\")\n",
    "\n",
    "if os.path.isdir(os.path.dirname(json_file_path)):\n",
    "    shutil.rmtree(os.path.dirname(json_file_path))"
   ]
  },
  {
   "cell_type": "code",
   "execution_count": 46,
   "metadata": {},
   "outputs": [],
   "source": [
    "df = pd.read_csv(\"/Users/hm/Documents/Github_Projects/Zillow-data-ML-project-2/notebook/artifacts/data_ingestion/unzip/ZILLOW_DATA_962c837a6ccefddddf190101e0bafdaf.csv\")"
   ]
  },
  {
   "cell_type": "code",
   "execution_count": 47,
   "metadata": {},
   "outputs": [
    {
     "data": {
      "text/plain": [
       "{'indicator_id': {'min': 'CRAM', 'max': 'ZSFH'},\n",
       " 'region_id': {'min': 3, 'max': 845172},\n",
       " 'date': {'min': '1996-01-31', 'max': '2023-11-04'},\n",
       " 'value': {'min': -864400.0, 'max': 40336513.0}}"
      ]
     },
     "execution_count": 47,
     "metadata": {},
     "output_type": "execute_result"
    }
   ],
   "source": [
    "def calculate_min_max(df):\n",
    "    \"\"\"Calculates the min and max values for each column in the training data.\n",
    "\n",
    "    Args:\n",
    "        df (pandas.DataFrame): training data\n",
    "\n",
    "    Returns:\n",
    "        min_max_values (dict): min and max values for each column in the training data\n",
    "    \"\"\"\n",
    "    min_max_values = df.agg(['min', 'max']).to_dict()\n",
    "    return min_max_values\n",
    "\n",
    "calculate_min_max(df)"
   ]
  },
  {
   "cell_type": "code",
   "execution_count": null,
   "metadata": {},
   "outputs": [],
   "source": []
  }
 ],
 "metadata": {
  "kernelspec": {
   "display_name": "Python 3",
   "language": "python",
   "name": "python3"
  },
  "language_info": {
   "codemirror_mode": {
    "name": "ipython",
    "version": 3
   },
   "file_extension": ".py",
   "mimetype": "text/x-python",
   "name": "python",
   "nbconvert_exporter": "python",
   "pygments_lexer": "ipython3",
   "version": "3.10.10"
  },
  "orig_nbformat": 4
 },
 "nbformat": 4,
 "nbformat_minor": 2
}
